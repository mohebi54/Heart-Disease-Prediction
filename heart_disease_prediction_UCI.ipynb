{
  "cells": [
    {
      "cell_type": "markdown",
      "metadata": {
        "id": "view-in-github",
        "colab_type": "text"
      },
      "source": [
        "<a href=\"https://colab.research.google.com/github/mohebi54/hello-world/blob/main/heart_disease_prediction_UCI.ipynb\" target=\"_parent\"><img src=\"https://colab.research.google.com/assets/colab-badge.svg\" alt=\"Open In Colab\"/></a>"
      ]
    },
    {
      "cell_type": "code",
      "execution_count": null,
      "id": "9d443213",
      "metadata": {
        "id": "9d443213"
      },
      "outputs": [],
      "source": [
        "import pandas as pd\n",
        "data=pd.read_csv('heart.csv')\n",
        "from sklearn.model_selection import train_test_split\n",
        "from sklearn.preprocessing import StandardScaler\n",
        "import numpy as np\n",
        "import tensorflow as tf\n",
        "import random\n",
        "from tensorflow.keras.models import Sequential\n",
        "from tensorflow.keras.layers import Dense\n",
        "from tensorflow.keras.optimizers import Adam\n",
        "from tensorflow.keras.callbacks import EarlyStopping"
      ]
    },
    {
      "cell_type": "code",
      "source": [
        "columns_to_check = ['age', 'trestbps', 'chol', 'thalach', 'oldpeak']\n",
        "for col in columns_to_check:\n",
        "    print(f\"{col}: {(data[col] == 0).sum()}\")"
      ],
      "metadata": {
        "colab": {
          "base_uri": "https://localhost:8080/"
        },
        "id": "4Jk_aJJIcxpl",
        "outputId": "b7998fb1-b7a8-46fd-e56e-40316603ba2f"
      },
      "id": "4Jk_aJJIcxpl",
      "execution_count": null,
      "outputs": [
        {
          "output_type": "stream",
          "name": "stdout",
          "text": [
            "age: 0\n",
            "trestbps: 0\n",
            "chol: 0\n",
            "thalach: 0\n",
            "oldpeak: 99\n"
          ]
        }
      ]
    },
    {
      "cell_type": "code",
      "source": [
        "mean_oldpeak = data[data['oldpeak'] != 0]['oldpeak'].mean()\n",
        "data.loc[data['oldpeak'] == 0, 'oldpeak'] = mean_oldpeak\n",
        "print((data['oldpeak'] == 0).sum())"
      ],
      "metadata": {
        "colab": {
          "base_uri": "https://localhost:8080/"
        },
        "id": "PU8PrXeztcov",
        "outputId": "e10dbb57-6272-4a98-9b9c-3c84749d4410"
      },
      "id": "PU8PrXeztcov",
      "execution_count": null,
      "outputs": [
        {
          "output_type": "stream",
          "name": "stdout",
          "text": [
            "0\n"
          ]
        }
      ]
    },
    {
      "cell_type": "code",
      "execution_count": null,
      "id": "c0446d6d",
      "metadata": {
        "id": "c0446d6d",
        "outputId": "c22bc79f-7232-43ab-9d96-26f04727904a",
        "colab": {
          "base_uri": "https://localhost:8080/"
        }
      },
      "outputs": [
        {
          "output_type": "stream",
          "name": "stdout",
          "text": [
            "     age  sex  cp  trestbps  chol  fbs  restecg  thalach  exang   oldpeak  \\\n",
            "0     63    1   3       145   233    1        0      150      0  2.300000   \n",
            "1     37    1   2       130   250    0        1      187      0  3.500000   \n",
            "2     41    0   1       130   204    0        0      172      0  1.400000   \n",
            "3     56    1   1       120   236    0        1      178      0  0.800000   \n",
            "4     57    0   0       120   354    0        1      163      1  0.600000   \n",
            "..   ...  ...  ..       ...   ...  ...      ...      ...    ...       ...   \n",
            "298   57    0   0       140   241    0        1      123      1  0.200000   \n",
            "299   45    1   3       110   264    0        1      132      0  1.200000   \n",
            "300   68    1   0       144   193    1        1      141      0  3.400000   \n",
            "301   57    1   0       130   131    0        1      115      1  1.200000   \n",
            "302   57    0   1       130   236    0        0      174      0  1.544118   \n",
            "\n",
            "     slope  ca  thal  target  \n",
            "0        0   0     1       1  \n",
            "1        0   0     2       1  \n",
            "2        2   0     2       1  \n",
            "3        2   0     2       1  \n",
            "4        2   0     2       1  \n",
            "..     ...  ..   ...     ...  \n",
            "298      1   0     3       0  \n",
            "299      1   0     3       0  \n",
            "300      1   2     3       0  \n",
            "301      1   1     3       0  \n",
            "302      1   1     2       0  \n",
            "\n",
            "[303 rows x 14 columns]\n"
          ]
        }
      ],
      "source": [
        "print(data)"
      ]
    },
    {
      "cell_type": "code",
      "execution_count": null,
      "id": "e9d032ca",
      "metadata": {
        "id": "e9d032ca",
        "outputId": "3319e59c-6b6d-454a-a03e-e21b0a4a39c1",
        "colab": {
          "base_uri": "https://localhost:8080/"
        }
      },
      "outputs": [
        {
          "output_type": "stream",
          "name": "stdout",
          "text": [
            "age         0\n",
            "sex         0\n",
            "cp          0\n",
            "trestbps    0\n",
            "chol        0\n",
            "fbs         0\n",
            "restecg     0\n",
            "thalach     0\n",
            "exang       0\n",
            "oldpeak     0\n",
            "slope       0\n",
            "ca          0\n",
            "thal        0\n",
            "target      0\n",
            "dtype: int64\n"
          ]
        }
      ],
      "source": [
        "print(data.isnull().sum())"
      ]
    },
    {
      "cell_type": "code",
      "execution_count": null,
      "id": "25a14713",
      "metadata": {
        "id": "25a14713"
      },
      "outputs": [],
      "source": [
        "x=data.drop('target', axis=1)\n",
        "y=data['target']"
      ]
    },
    {
      "cell_type": "code",
      "execution_count": null,
      "id": "d4c0b07c",
      "metadata": {
        "id": "d4c0b07c"
      },
      "outputs": [],
      "source": [
        "x_train,x_temp,y_train,y_temp=train_test_split(x,y, test_size=0.3, random_state=42)\n",
        "x_val,x_test,y_val,y_test=train_test_split(x_temp,y_temp,test_size=0.5,random_state=42)"
      ]
    },
    {
      "cell_type": "code",
      "execution_count": null,
      "id": "ee16cb59",
      "metadata": {
        "id": "ee16cb59",
        "outputId": "10cc3071-5b3e-4226-a22e-cb5e95223ab6",
        "colab": {
          "base_uri": "https://localhost:8080/"
        }
      },
      "outputs": [
        {
          "output_type": "stream",
          "name": "stdout",
          "text": [
            "Train: 212 212\n",
            "Validation: 45 45\n",
            "Test: 46 46\n"
          ]
        }
      ],
      "source": [
        "print(\"Train:\", len(x_train), len(y_train))  # باید ~212 باشه\n",
        "print(\"Validation:\", len(x_val), len(y_val))  # باید ~45 باشه\n",
        "print(\"Test:\", len(x_test), len(y_test))      #  باید 46 باشه"
      ]
    },
    {
      "cell_type": "code",
      "execution_count": null,
      "id": "8647aa97",
      "metadata": {
        "id": "8647aa97"
      },
      "outputs": [],
      "source": [
        "scaler=StandardScaler()\n",
        "scaler.fit(x_train)\n",
        "x_train=scaler.transform(x_train)\n",
        "x_test=scaler.transform(x_test)\n",
        "x_val=scaler.transform(x_val)"
      ]
    },
    {
      "cell_type": "code",
      "execution_count": null,
      "id": "559e8d81",
      "metadata": {
        "id": "559e8d81",
        "outputId": "902e75ba-536e-4d22-a1e3-6b8235926878",
        "colab": {
          "base_uri": "https://localhost:8080/"
        }
      },
      "outputs": [
        {
          "output_type": "stream",
          "name": "stdout",
          "text": [
            "X_Train shape:  (212, 13)\n",
            "x_test shape:  (46, 13)\n",
            "x_val shape:  (45, 13)\n"
          ]
        }
      ],
      "source": [
        "print(\"X_Train shape: \", x_train.shape)\n",
        "print(\"x_test shape: \", x_test.shape)\n",
        "print(\"x_val shape: \", x_val.shape)"
      ]
    },
    {
      "cell_type": "code",
      "execution_count": null,
      "id": "f8fd5e58",
      "metadata": {
        "id": "f8fd5e58",
        "outputId": "498391e7-d456-4c76-e5ce-000ccd52abdb",
        "colab": {
          "base_uri": "https://localhost:8080/"
        }
      },
      "outputs": [
        {
          "output_type": "stream",
          "name": "stdout",
          "text": [
            "y_train shape: (212,)\n",
            "y_val shape: (45,)\n",
            "y_test shape: (46,)\n"
          ]
        }
      ],
      "source": [
        "print(\"y_train shape:\", y_train.shape)\n",
        "print(\"y_val shape:\", y_val.shape)\n",
        "print(\"y_test shape:\", y_test.shape)"
      ]
    },
    {
      "cell_type": "code",
      "execution_count": null,
      "id": "9a8f2593",
      "metadata": {
        "id": "9a8f2593",
        "outputId": "a761cfab-f7c1-487a-fe1d-adad92d81db6",
        "colab": {
          "base_uri": "https://localhost:8080/"
        }
      },
      "outputs": [
        {
          "output_type": "stream",
          "name": "stdout",
          "text": [
            "[[-1.67339636 -1.39443338  0.95280942 -2.14786993 -0.88680513 -0.38202872\n",
            "   0.8701389   1.27119034 -0.68718427  0.04974661  0.955317   -0.67629057\n",
            "  -0.54888242]\n",
            " [-2.76362385  0.71713717 -0.01367669 -0.02777897 -0.79502487 -0.38202872\n",
            "  -1.03160798  2.2844851  -0.68718427  0.04974661  0.955317   -0.67629057\n",
            "  -0.54888242]\n",
            " [-0.47414611 -1.39443338  0.95280942 -0.61669312 -0.51968408 -0.38202872\n",
            "   0.8701389   0.34600816 -0.68718427  0.11598772 -0.67796691 -0.67629057\n",
            "  -0.54888242]\n",
            " [-0.03805511  0.71713717 -0.9801628   0.56113519 -0.15256304 -0.38202872\n",
            "   0.8701389   0.43412075 -0.68718427 -0.35815917  0.955317   -0.67629057\n",
            "  -0.54888242]\n",
            " [-1.78241911  0.71713717  0.95280942  0.44335235 -1.32735038 -0.38202872\n",
            "   0.8701389   1.00685257 -0.68718427  0.04974661  0.955317    3.54058007\n",
            "  -0.54888242]]\n"
          ]
        }
      ],
      "source": [
        "print(x_train[:5])"
      ]
    },
    {
      "cell_type": "code",
      "execution_count": null,
      "id": "82f650e5",
      "metadata": {
        "id": "82f650e5",
        "outputId": "8afacf71-caf8-4acd-efe7-a918e87d1abf",
        "colab": {
          "base_uri": "https://localhost:8080/"
        }
      },
      "outputs": [
        {
          "output_type": "stream",
          "name": "stdout",
          "text": [
            "میانگین x_train: [ 1.99002240e-16  1.63391313e-16  8.06482763e-17  5.57206273e-16\n",
            "  1.42443709e-16 -6.17954325e-17 -1.59201792e-16  3.05835022e-16\n",
            "  1.00548500e-16  4.43041830e-16  1.71770355e-16  7.96008961e-17\n",
            "  1.00548500e-16]\n",
            "انحراف معیار x_train: [1. 1. 1. 1. 1. 1. 1. 1. 1. 1. 1. 1. 1.]\n"
          ]
        }
      ],
      "source": [
        "print(\"میانگین x_train:\", np.mean(x_train, axis=0))\n",
        "print(\"انحراف معیار x_train:\", np.std(x_train, axis=0))"
      ]
    },
    {
      "cell_type": "code",
      "execution_count": null,
      "id": "96527dd5",
      "metadata": {
        "id": "96527dd5",
        "outputId": "53abeee7-b63a-4e05-94db-ef1de0809b6c",
        "colab": {
          "base_uri": "https://localhost:8080/"
        }
      },
      "outputs": [
        {
          "output_type": "stream",
          "name": "stdout",
          "text": [
            "نوع x_train: <class 'numpy.ndarray'>\n",
            "نوع x_test <class 'numpy.ndarray'>\n",
            "نوع x_val <class 'numpy.ndarray'>\n"
          ]
        }
      ],
      "source": [
        "print(\"نوع x_train:\", type(x_train))\n",
        "print(\"نوع x_test\", type(x_test))\n",
        "print(\"نوع x_val\", type(x_val))"
      ]
    },
    {
      "cell_type": "code",
      "execution_count": null,
      "id": "7a4c6a31",
      "metadata": {
        "id": "7a4c6a31",
        "outputId": "9a8cec27-8e35-4032-9e8b-b756ede15598",
        "colab": {
          "base_uri": "https://localhost:8080/"
        }
      },
      "outputs": [
        {
          "output_type": "stream",
          "name": "stdout",
          "text": [
            "میانگین x_val: [-0.08166421  0.20097548 -0.09958657  0.17245184 -0.12074588  0.21789786\n",
            "  0.02491807 -0.05147752  0.12216609  0.16766354 -0.13353894  0.33107297\n",
            " -0.06169403]\n",
            "انحراف معیار x_val: [1.02360177 0.90746291 1.03538332 0.99574298 0.8492804  1.19985318\n",
            " 1.02651714 0.94419393 1.03870237 1.04302318 0.84342418 1.19592785\n",
            " 1.21204688]\n"
          ]
        }
      ],
      "source": [
        "print(\"میانگین x_val:\", np.mean(x_val, axis=0))\n",
        "print(\"انحراف معیار x_val:\", np.std(x_val, axis=0))"
      ]
    },
    {
      "cell_type": "code",
      "source": [
        "np.random.seed(42)\n",
        "tf.random.set_seed(42)\n",
        "random.seed(42)"
      ],
      "metadata": {
        "id": "GfKHYUv5-ONh"
      },
      "id": "GfKHYUv5-ONh",
      "execution_count": null,
      "outputs": []
    },
    {
      "cell_type": "code",
      "source": [
        "model=Sequential(\n",
        "       [\n",
        "    Dense(16, input_dim=13, activation='relu'),\n",
        "    Dense(8, activation='relu'),\n",
        "    Dense(1, activation='sigmoid')\n",
        "       ]\n",
        "  )\n",
        "model.compile(loss='binary_crossentropy',optimizer=Adam(learning_rate=0.001),metrics=['accuracy'])\n",
        "early_stopping = EarlyStopping(monitor='val_loss', patience=15, restore_best_weights=True)\n",
        "model.summary()"
      ],
      "metadata": {
        "colab": {
          "base_uri": "https://localhost:8080/",
          "height": 293
        },
        "id": "Lrdwz3PF3RLF",
        "outputId": "219fa70e-7f90-42af-f3a2-0a460e37c336"
      },
      "id": "Lrdwz3PF3RLF",
      "execution_count": null,
      "outputs": [
        {
          "output_type": "stream",
          "name": "stderr",
          "text": [
            "/usr/local/lib/python3.11/dist-packages/keras/src/layers/core/dense.py:87: UserWarning: Do not pass an `input_shape`/`input_dim` argument to a layer. When using Sequential models, prefer using an `Input(shape)` object as the first layer in the model instead.\n",
            "  super().__init__(activity_regularizer=activity_regularizer, **kwargs)\n"
          ]
        },
        {
          "output_type": "display_data",
          "data": {
            "text/plain": [
              "\u001b[1mModel: \"sequential\"\u001b[0m\n"
            ],
            "text/html": [
              "<pre style=\"white-space:pre;overflow-x:auto;line-height:normal;font-family:Menlo,'DejaVu Sans Mono',consolas,'Courier New',monospace\"><span style=\"font-weight: bold\">Model: \"sequential\"</span>\n",
              "</pre>\n"
            ]
          },
          "metadata": {}
        },
        {
          "output_type": "display_data",
          "data": {
            "text/plain": [
              "┏━━━━━━━━━━━━━━━━━━━━━━━━━━━━━━━━━┳━━━━━━━━━━━━━━━━━━━━━━━━┳━━━━━━━━━━━━━━━┓\n",
              "┃\u001b[1m \u001b[0m\u001b[1mLayer (type)                   \u001b[0m\u001b[1m \u001b[0m┃\u001b[1m \u001b[0m\u001b[1mOutput Shape          \u001b[0m\u001b[1m \u001b[0m┃\u001b[1m \u001b[0m\u001b[1m      Param #\u001b[0m\u001b[1m \u001b[0m┃\n",
              "┡━━━━━━━━━━━━━━━━━━━━━━━━━━━━━━━━━╇━━━━━━━━━━━━━━━━━━━━━━━━╇━━━━━━━━━━━━━━━┩\n",
              "│ dense (\u001b[38;5;33mDense\u001b[0m)                   │ (\u001b[38;5;45mNone\u001b[0m, \u001b[38;5;34m16\u001b[0m)             │           \u001b[38;5;34m224\u001b[0m │\n",
              "├─────────────────────────────────┼────────────────────────┼───────────────┤\n",
              "│ dense_1 (\u001b[38;5;33mDense\u001b[0m)                 │ (\u001b[38;5;45mNone\u001b[0m, \u001b[38;5;34m8\u001b[0m)              │           \u001b[38;5;34m136\u001b[0m │\n",
              "├─────────────────────────────────┼────────────────────────┼───────────────┤\n",
              "│ dense_2 (\u001b[38;5;33mDense\u001b[0m)                 │ (\u001b[38;5;45mNone\u001b[0m, \u001b[38;5;34m1\u001b[0m)              │             \u001b[38;5;34m9\u001b[0m │\n",
              "└─────────────────────────────────┴────────────────────────┴───────────────┘\n"
            ],
            "text/html": [
              "<pre style=\"white-space:pre;overflow-x:auto;line-height:normal;font-family:Menlo,'DejaVu Sans Mono',consolas,'Courier New',monospace\">┏━━━━━━━━━━━━━━━━━━━━━━━━━━━━━━━━━┳━━━━━━━━━━━━━━━━━━━━━━━━┳━━━━━━━━━━━━━━━┓\n",
              "┃<span style=\"font-weight: bold\"> Layer (type)                    </span>┃<span style=\"font-weight: bold\"> Output Shape           </span>┃<span style=\"font-weight: bold\">       Param # </span>┃\n",
              "┡━━━━━━━━━━━━━━━━━━━━━━━━━━━━━━━━━╇━━━━━━━━━━━━━━━━━━━━━━━━╇━━━━━━━━━━━━━━━┩\n",
              "│ dense (<span style=\"color: #0087ff; text-decoration-color: #0087ff\">Dense</span>)                   │ (<span style=\"color: #00d7ff; text-decoration-color: #00d7ff\">None</span>, <span style=\"color: #00af00; text-decoration-color: #00af00\">16</span>)             │           <span style=\"color: #00af00; text-decoration-color: #00af00\">224</span> │\n",
              "├─────────────────────────────────┼────────────────────────┼───────────────┤\n",
              "│ dense_1 (<span style=\"color: #0087ff; text-decoration-color: #0087ff\">Dense</span>)                 │ (<span style=\"color: #00d7ff; text-decoration-color: #00d7ff\">None</span>, <span style=\"color: #00af00; text-decoration-color: #00af00\">8</span>)              │           <span style=\"color: #00af00; text-decoration-color: #00af00\">136</span> │\n",
              "├─────────────────────────────────┼────────────────────────┼───────────────┤\n",
              "│ dense_2 (<span style=\"color: #0087ff; text-decoration-color: #0087ff\">Dense</span>)                 │ (<span style=\"color: #00d7ff; text-decoration-color: #00d7ff\">None</span>, <span style=\"color: #00af00; text-decoration-color: #00af00\">1</span>)              │             <span style=\"color: #00af00; text-decoration-color: #00af00\">9</span> │\n",
              "└─────────────────────────────────┴────────────────────────┴───────────────┘\n",
              "</pre>\n"
            ]
          },
          "metadata": {}
        },
        {
          "output_type": "display_data",
          "data": {
            "text/plain": [
              "\u001b[1m Total params: \u001b[0m\u001b[38;5;34m369\u001b[0m (1.44 KB)\n"
            ],
            "text/html": [
              "<pre style=\"white-space:pre;overflow-x:auto;line-height:normal;font-family:Menlo,'DejaVu Sans Mono',consolas,'Courier New',monospace\"><span style=\"font-weight: bold\"> Total params: </span><span style=\"color: #00af00; text-decoration-color: #00af00\">369</span> (1.44 KB)\n",
              "</pre>\n"
            ]
          },
          "metadata": {}
        },
        {
          "output_type": "display_data",
          "data": {
            "text/plain": [
              "\u001b[1m Trainable params: \u001b[0m\u001b[38;5;34m369\u001b[0m (1.44 KB)\n"
            ],
            "text/html": [
              "<pre style=\"white-space:pre;overflow-x:auto;line-height:normal;font-family:Menlo,'DejaVu Sans Mono',consolas,'Courier New',monospace\"><span style=\"font-weight: bold\"> Trainable params: </span><span style=\"color: #00af00; text-decoration-color: #00af00\">369</span> (1.44 KB)\n",
              "</pre>\n"
            ]
          },
          "metadata": {}
        },
        {
          "output_type": "display_data",
          "data": {
            "text/plain": [
              "\u001b[1m Non-trainable params: \u001b[0m\u001b[38;5;34m0\u001b[0m (0.00 B)\n"
            ],
            "text/html": [
              "<pre style=\"white-space:pre;overflow-x:auto;line-height:normal;font-family:Menlo,'DejaVu Sans Mono',consolas,'Courier New',monospace\"><span style=\"font-weight: bold\"> Non-trainable params: </span><span style=\"color: #00af00; text-decoration-color: #00af00\">0</span> (0.00 B)\n",
              "</pre>\n"
            ]
          },
          "metadata": {}
        }
      ]
    },
    {
      "cell_type": "code",
      "source": [
        "history=model.fit(x_train,y_train,epochs=20,batch_size=32,validation_data=(x_val,y_val), callbacks=[early_stopping])"
      ],
      "metadata": {
        "colab": {
          "base_uri": "https://localhost:8080/"
        },
        "id": "_aYQz3yuaXZF",
        "outputId": "702f978d-787f-4040-f336-5e5d2d726694"
      },
      "id": "_aYQz3yuaXZF",
      "execution_count": null,
      "outputs": [
        {
          "output_type": "stream",
          "name": "stdout",
          "text": [
            "Epoch 1/20\n",
            "\u001b[1m7/7\u001b[0m \u001b[32m━━━━━━━━━━━━━━━━━━━━\u001b[0m\u001b[37m\u001b[0m \u001b[1m2s\u001b[0m 50ms/step - accuracy: 0.6256 - loss: 0.6399 - val_accuracy: 0.6889 - val_loss: 0.6234\n",
            "Epoch 2/20\n",
            "\u001b[1m7/7\u001b[0m \u001b[32m━━━━━━━━━━━━━━━━━━━━\u001b[0m\u001b[37m\u001b[0m \u001b[1m0s\u001b[0m 13ms/step - accuracy: 0.6811 - loss: 0.6167 - val_accuracy: 0.7111 - val_loss: 0.6046\n",
            "Epoch 3/20\n",
            "\u001b[1m7/7\u001b[0m \u001b[32m━━━━━━━━━━━━━━━━━━━━\u001b[0m\u001b[37m\u001b[0m \u001b[1m0s\u001b[0m 13ms/step - accuracy: 0.6913 - loss: 0.5966 - val_accuracy: 0.7333 - val_loss: 0.5871\n",
            "Epoch 4/20\n",
            "\u001b[1m7/7\u001b[0m \u001b[32m━━━━━━━━━━━━━━━━━━━━\u001b[0m\u001b[37m\u001b[0m \u001b[1m0s\u001b[0m 13ms/step - accuracy: 0.7083 - loss: 0.5779 - val_accuracy: 0.7556 - val_loss: 0.5705\n",
            "Epoch 5/20\n",
            "\u001b[1m7/7\u001b[0m \u001b[32m━━━━━━━━━━━━━━━━━━━━\u001b[0m\u001b[37m\u001b[0m \u001b[1m0s\u001b[0m 12ms/step - accuracy: 0.7202 - loss: 0.5604 - val_accuracy: 0.7556 - val_loss: 0.5548\n",
            "Epoch 6/20\n",
            "\u001b[1m7/7\u001b[0m \u001b[32m━━━━━━━━━━━━━━━━━━━━\u001b[0m\u001b[37m\u001b[0m \u001b[1m0s\u001b[0m 13ms/step - accuracy: 0.7341 - loss: 0.5436 - val_accuracy: 0.8222 - val_loss: 0.5398\n",
            "Epoch 7/20\n",
            "\u001b[1m7/7\u001b[0m \u001b[32m━━━━━━━━━━━━━━━━━━━━\u001b[0m\u001b[37m\u001b[0m \u001b[1m0s\u001b[0m 14ms/step - accuracy: 0.7402 - loss: 0.5275 - val_accuracy: 0.8000 - val_loss: 0.5253\n",
            "Epoch 8/20\n",
            "\u001b[1m7/7\u001b[0m \u001b[32m━━━━━━━━━━━━━━━━━━━━\u001b[0m\u001b[37m\u001b[0m \u001b[1m0s\u001b[0m 13ms/step - accuracy: 0.7578 - loss: 0.5125 - val_accuracy: 0.8000 - val_loss: 0.5113\n",
            "Epoch 9/20\n",
            "\u001b[1m7/7\u001b[0m \u001b[32m━━━━━━━━━━━━━━━━━━━━\u001b[0m\u001b[37m\u001b[0m \u001b[1m0s\u001b[0m 15ms/step - accuracy: 0.7743 - loss: 0.4986 - val_accuracy: 0.8000 - val_loss: 0.4981\n",
            "Epoch 10/20\n",
            "\u001b[1m7/7\u001b[0m \u001b[32m━━━━━━━━━━━━━━━━━━━━\u001b[0m\u001b[37m\u001b[0m \u001b[1m0s\u001b[0m 12ms/step - accuracy: 0.7762 - loss: 0.4855 - val_accuracy: 0.7778 - val_loss: 0.4857\n",
            "Epoch 11/20\n",
            "\u001b[1m7/7\u001b[0m \u001b[32m━━━━━━━━━━━━━━━━━━━━\u001b[0m\u001b[37m\u001b[0m \u001b[1m0s\u001b[0m 13ms/step - accuracy: 0.7811 - loss: 0.4730 - val_accuracy: 0.7778 - val_loss: 0.4740\n",
            "Epoch 12/20\n",
            "\u001b[1m7/7\u001b[0m \u001b[32m━━━━━━━━━━━━━━━━━━━━\u001b[0m\u001b[37m\u001b[0m \u001b[1m0s\u001b[0m 12ms/step - accuracy: 0.7919 - loss: 0.4612 - val_accuracy: 0.7778 - val_loss: 0.4629\n",
            "Epoch 13/20\n",
            "\u001b[1m7/7\u001b[0m \u001b[32m━━━━━━━━━━━━━━━━━━━━\u001b[0m\u001b[37m\u001b[0m \u001b[1m0s\u001b[0m 13ms/step - accuracy: 0.7919 - loss: 0.4500 - val_accuracy: 0.8000 - val_loss: 0.4523\n",
            "Epoch 14/20\n",
            "\u001b[1m7/7\u001b[0m \u001b[32m━━━━━━━━━━━━━━━━━━━━\u001b[0m\u001b[37m\u001b[0m \u001b[1m0s\u001b[0m 12ms/step - accuracy: 0.7919 - loss: 0.4394 - val_accuracy: 0.8000 - val_loss: 0.4424\n",
            "Epoch 15/20\n",
            "\u001b[1m7/7\u001b[0m \u001b[32m━━━━━━━━━━━━━━━━━━━━\u001b[0m\u001b[37m\u001b[0m \u001b[1m0s\u001b[0m 13ms/step - accuracy: 0.8001 - loss: 0.4293 - val_accuracy: 0.8000 - val_loss: 0.4329\n",
            "Epoch 16/20\n",
            "\u001b[1m7/7\u001b[0m \u001b[32m━━━━━━━━━━━━━━━━━━━━\u001b[0m\u001b[37m\u001b[0m \u001b[1m0s\u001b[0m 12ms/step - accuracy: 0.8086 - loss: 0.4197 - val_accuracy: 0.8222 - val_loss: 0.4241\n",
            "Epoch 17/20\n",
            "\u001b[1m7/7\u001b[0m \u001b[32m━━━━━━━━━━━━━━━━━━━━\u001b[0m\u001b[37m\u001b[0m \u001b[1m0s\u001b[0m 14ms/step - accuracy: 0.8050 - loss: 0.4102 - val_accuracy: 0.8222 - val_loss: 0.4161\n",
            "Epoch 18/20\n",
            "\u001b[1m7/7\u001b[0m \u001b[32m━━━━━━━━━━━━━━━━━━━━\u001b[0m\u001b[37m\u001b[0m \u001b[1m0s\u001b[0m 13ms/step - accuracy: 0.8188 - loss: 0.4010 - val_accuracy: 0.8444 - val_loss: 0.4087\n",
            "Epoch 19/20\n",
            "\u001b[1m7/7\u001b[0m \u001b[32m━━━━━━━━━━━━━━━━━━━━\u001b[0m\u001b[37m\u001b[0m \u001b[1m0s\u001b[0m 13ms/step - accuracy: 0.8322 - loss: 0.3924 - val_accuracy: 0.8444 - val_loss: 0.4018\n",
            "Epoch 20/20\n",
            "\u001b[1m7/7\u001b[0m \u001b[32m━━━━━━━━━━━━━━━━━━━━\u001b[0m\u001b[37m\u001b[0m \u001b[1m0s\u001b[0m 12ms/step - accuracy: 0.8408 - loss: 0.3842 - val_accuracy: 0.8444 - val_loss: 0.3954\n"
          ]
        }
      ]
    },
    {
      "cell_type": "code",
      "source": [
        "test_loss, test_accuracy = model.evaluate(x_test, y_test)\n",
        "print(\"Test loss:\", test_loss)\n",
        "print(\"Test accuracy:\", test_accuracy)"
      ],
      "metadata": {
        "colab": {
          "base_uri": "https://localhost:8080/"
        },
        "id": "gmNkZfFmN34O",
        "outputId": "e6c93124-2302-4860-da75-be0ee0294ded"
      },
      "id": "gmNkZfFmN34O",
      "execution_count": null,
      "outputs": [
        {
          "output_type": "stream",
          "name": "stdout",
          "text": [
            "\u001b[1m2/2\u001b[0m \u001b[32m━━━━━━━━━━━━━━━━━━━━\u001b[0m\u001b[37m\u001b[0m \u001b[1m0s\u001b[0m 22ms/step - accuracy: 0.7717 - loss: 0.5495\n",
            "Test loss: 0.5342153310775757\n",
            "Test accuracy: 0.782608687877655\n"
          ]
        }
      ]
    }
  ],
  "metadata": {
    "kernelspec": {
      "display_name": "Python 3",
      "name": "python3"
    },
    "language_info": {
      "codemirror_mode": {
        "name": "ipython",
        "version": 3
      },
      "file_extension": ".py",
      "mimetype": "text/x-python",
      "name": "python",
      "nbconvert_exporter": "python",
      "pygments_lexer": "ipython3",
      "version": "3.11.9"
    },
    "colab": {
      "provenance": [],
      "gpuType": "T4",
      "include_colab_link": true
    },
    "accelerator": "GPU"
  },
  "nbformat": 4,
  "nbformat_minor": 5
}